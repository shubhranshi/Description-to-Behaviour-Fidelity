{
 "cells": [
  {
   "cell_type": "markdown",
   "metadata": {
    "id": "rXsSba1q6qp_"
   },
   "source": [
    "### K-fold validation, k=5"
   ]
  },
  {
   "cell_type": "markdown",
   "metadata": {},
   "source": [
    "Create train and test sets - 3 train sets (3 different sizes) and 1 test set"
   ]
  },
  {
   "cell_type": "code",
   "execution_count": 1,
   "metadata": {
    "id": "YFY5Suix1oXd"
   },
   "outputs": [],
   "source": [
    "# Import module for data manipulation\n",
    "import pandas as pd\n",
    "# Import module for linear algebra\n",
    "import numpy as np"
   ]
  },
  {
   "cell_type": "code",
   "execution_count": 59,
   "metadata": {
    "colab": {
     "base_uri": "https://localhost:8080/",
     "height": 298
    },
    "id": "_FE1jPgK7z1O",
    "outputId": "c7c34916-ff9f-4836-e851-d8f4b43bc27d"
   },
   "outputs": [
    {
     "data": {
      "text/html": [
       "<div>\n",
       "<style scoped>\n",
       "    .dataframe tbody tr th:only-of-type {\n",
       "        vertical-align: middle;\n",
       "    }\n",
       "\n",
       "    .dataframe tbody tr th {\n",
       "        vertical-align: top;\n",
       "    }\n",
       "\n",
       "    .dataframe thead th {\n",
       "        text-align: right;\n",
       "    }\n",
       "</style>\n",
       "<table border=\"1\" class=\"dataframe\">\n",
       "  <thead>\n",
       "    <tr style=\"text-align: right;\">\n",
       "      <th></th>\n",
       "      <th>App_Name</th>\n",
       "      <th>App_Id</th>\n",
       "      <th>Category</th>\n",
       "      <th>Rating</th>\n",
       "      <th>Maximum_Installs</th>\n",
       "      <th>Editors_Choice</th>\n",
       "      <th>Description</th>\n",
       "      <th>Privacy_Policy</th>\n",
       "      <th>Sensors</th>\n",
       "      <th>Camera</th>\n",
       "      <th>...</th>\n",
       "      <th>Contacts</th>\n",
       "      <th>SMS</th>\n",
       "      <th>Storage</th>\n",
       "      <th>Phone</th>\n",
       "      <th>Get_Accounts</th>\n",
       "      <th>Call_Log</th>\n",
       "      <th>desc_length</th>\n",
       "      <th>Clean_Description</th>\n",
       "      <th>clean_desc_length</th>\n",
       "      <th>token_length</th>\n",
       "    </tr>\n",
       "  </thead>\n",
       "  <tbody>\n",
       "    <tr>\n",
       "      <th>0</th>\n",
       "      <td>Coloring Book Barbaie</td>\n",
       "      <td>com.bisgumah.barbie</td>\n",
       "      <td>Entertainment</td>\n",
       "      <td>3.8</td>\n",
       "      <td>646456</td>\n",
       "      <td>False</td>\n",
       "      <td>this book can be used for all ages from childr...</td>\n",
       "      <td>https://docs.google.com/document/d/1kUDGpRA8fF...</td>\n",
       "      <td>0</td>\n",
       "      <td>0</td>\n",
       "      <td>...</td>\n",
       "      <td>0</td>\n",
       "      <td>0</td>\n",
       "      <td>1</td>\n",
       "      <td>0</td>\n",
       "      <td>0</td>\n",
       "      <td>0</td>\n",
       "      <td>1167</td>\n",
       "      <td>this book can be used for all ages from childr...</td>\n",
       "      <td>1136</td>\n",
       "      <td>226</td>\n",
       "    </tr>\n",
       "    <tr>\n",
       "      <th>1</th>\n",
       "      <td>Wealthbox</td>\n",
       "      <td>com.starburstlabs.wealthbox_android.prod</td>\n",
       "      <td>Business</td>\n",
       "      <td>4.6</td>\n",
       "      <td>1377</td>\n",
       "      <td>False</td>\n",
       "      <td>Wealthbox is the companion mobile app to web-b...</td>\n",
       "      <td>https://www.wealthbox.com/privacy-policy/</td>\n",
       "      <td>0</td>\n",
       "      <td>0</td>\n",
       "      <td>...</td>\n",
       "      <td>0</td>\n",
       "      <td>0</td>\n",
       "      <td>1</td>\n",
       "      <td>0</td>\n",
       "      <td>0</td>\n",
       "      <td>0</td>\n",
       "      <td>981</td>\n",
       "      <td>wealthbox is the companion mobile app to web b...</td>\n",
       "      <td>926</td>\n",
       "      <td>163</td>\n",
       "    </tr>\n",
       "  </tbody>\n",
       "</table>\n",
       "<p>2 rows × 23 columns</p>\n",
       "</div>"
      ],
      "text/plain": [
       "                App_Name                                    App_Id  \\\n",
       "0  Coloring Book Barbaie                       com.bisgumah.barbie   \n",
       "1              Wealthbox  com.starburstlabs.wealthbox_android.prod   \n",
       "\n",
       "        Category  Rating  Maximum_Installs  Editors_Choice  \\\n",
       "0  Entertainment     3.8            646456           False   \n",
       "1       Business     4.6              1377           False   \n",
       "\n",
       "                                         Description  \\\n",
       "0  this book can be used for all ages from childr...   \n",
       "1  Wealthbox is the companion mobile app to web-b...   \n",
       "\n",
       "                                      Privacy_Policy  Sensors  Camera  ...  \\\n",
       "0  https://docs.google.com/document/d/1kUDGpRA8fF...        0       0  ...   \n",
       "1          https://www.wealthbox.com/privacy-policy/        0       0  ...   \n",
       "\n",
       "   Contacts  SMS  Storage  Phone  Get_Accounts  Call_Log  desc_length  \\\n",
       "0         0    0        1      0             0         0         1167   \n",
       "1         0    0        1      0             0         0          981   \n",
       "\n",
       "                                   Clean_Description  clean_desc_length  \\\n",
       "0  this book can be used for all ages from childr...               1136   \n",
       "1  wealthbox is the companion mobile app to web b...                926   \n",
       "\n",
       "   token_length  \n",
       "0           226  \n",
       "1           163  \n",
       "\n",
       "[2 rows x 23 columns]"
      ]
     },
     "execution_count": 59,
     "metadata": {},
     "output_type": "execute_result"
    }
   ],
   "source": [
    "df = pd.read_csv('datafile_V1.csv') \n",
    "df.head(2)"
   ]
  },
  {
   "cell_type": "code",
   "execution_count": 60,
   "metadata": {
    "id": "D1EWEr9YUNDC"
   },
   "outputs": [],
   "source": [
    "df.dropna(subset=['Clean_Description'],inplace=True)"
   ]
  },
  {
   "cell_type": "code",
   "execution_count": null,
   "metadata": {},
   "outputs": [],
   "source": []
  },
  {
   "cell_type": "code",
   "execution_count": 61,
   "metadata": {},
   "outputs": [
    {
     "data": {
      "text/plain": [
       "(4624, 23)"
      ]
     },
     "execution_count": 61,
     "metadata": {},
     "output_type": "execute_result"
    }
   ],
   "source": [
    "df_test = df[(df['Rating'] >= 4.7) & (df['Maximum_Installs'] >= 70000)] \n",
    "df_test.shape"
   ]
  },
  {
   "cell_type": "code",
   "execution_count": 62,
   "metadata": {},
   "outputs": [
    {
     "name": "stdout",
     "output_type": "stream",
     "text": [
      "(253505, 23)\n",
      "(4624, 23)\n"
     ]
    }
   ],
   "source": [
    "# rest of the 20% values\n",
    "df = df.drop(df_test.index)\n",
    " \n",
    "print(df.shape)\n",
    "print(df_test.shape)"
   ]
  },
  {
   "cell_type": "code",
   "execution_count": 6,
   "metadata": {},
   "outputs": [],
   "source": [
    "df_test.reset_index(drop=True,inplace=True)\n",
    "df_test.to_csv(\"test_dataset.csv\",index=False)"
   ]
  },
  {
   "cell_type": "code",
   "execution_count": null,
   "metadata": {},
   "outputs": [],
   "source": []
  },
  {
   "cell_type": "code",
   "execution_count": 7,
   "metadata": {},
   "outputs": [
    {
     "data": {
      "text/plain": [
       "(121655, 23)"
      ]
     },
     "execution_count": 7,
     "metadata": {},
     "output_type": "execute_result"
    }
   ],
   "source": [
    "#df_2k = df[(df['Rating'] >= 4.0) & (df['Maximum_Installs'] >= 5000)] \n",
    "#df_2k.shape"
   ]
  },
  {
   "cell_type": "code",
   "execution_count": 35,
   "metadata": {},
   "outputs": [
    {
     "data": {
      "text/plain": [
       "(72684, 23)"
      ]
     },
     "execution_count": 35,
     "metadata": {},
     "output_type": "execute_result"
    }
   ],
   "source": [
    "#df_2k = df[(df['Rating'] >= 4.0) & (df['Maximum_Installs'] >= 20000)]\n",
    "#df_2k.shape"
   ]
  },
  {
   "cell_type": "code",
   "execution_count": 63,
   "metadata": {},
   "outputs": [
    {
     "data": {
      "text/plain": [
       "(20247, 23)"
      ]
     },
     "execution_count": 63,
     "metadata": {},
     "output_type": "execute_result"
    }
   ],
   "source": [
    "df_2k = df[(df['Rating'] >= 4.5) & (df['Maximum_Installs'] >= 20000)]\n",
    "df_2k.shape"
   ]
  },
  {
   "cell_type": "code",
   "execution_count": null,
   "metadata": {},
   "outputs": [],
   "source": []
  },
  {
   "cell_type": "code",
   "execution_count": 64,
   "metadata": {
    "id": "L8pqOInxJT2b"
   },
   "outputs": [],
   "source": [
    "#shuffle\n",
    "from sklearn.utils import shuffle\n",
    "df = shuffle(df_2k)"
   ]
  },
  {
   "cell_type": "code",
   "execution_count": null,
   "metadata": {
    "id": "NsgntMpWL__Y"
   },
   "outputs": [],
   "source": [
    "# Say df is your dataframe, and you want N_PARTITIONS partitions of roughly equal size \n",
    "# (they will be of exactly equal size if len(df) is divisible by N_PARTITIONS).\n",
    "\n",
    "# Use np.random.permutation to permute the array np.arange(len(df)). \n",
    "# Then take slices of that array with step N_PARTITIONS, and extract the corresponding rows of your dataframe with .iloc[]"
   ]
  },
  {
   "cell_type": "code",
   "execution_count": 65,
   "metadata": {
    "id": "WJcThOdZKycX"
   },
   "outputs": [],
   "source": [
    "import numpy as np\n",
    "\n",
    "permuted_indices = np.random.permutation(len(df))\n",
    "\n",
    "dfs = []\n",
    "for i in range(5):\n",
    "    dfs.append(df.iloc[permuted_indices[i::5]])"
   ]
  },
  {
   "cell_type": "code",
   "execution_count": 66,
   "metadata": {
    "colab": {
     "base_uri": "https://localhost:8080/"
    },
    "id": "twLPmiUMK6Fc",
    "outputId": "60032cd7-d7da-45d6-be85-cde9ef5faaf9"
   },
   "outputs": [
    {
     "data": {
      "text/plain": [
       "[                                                 App_Name  \\\n",
       " 96087                                Fortune Teller Khmer   \n",
       " 199180                                     Mrsool | مرسول   \n",
       " 190749                                              Hombi   \n",
       " 162657                             Skin for PlayerPro OOS   \n",
       " 227624                                    Lokseva Academy   \n",
       " ...                                                   ...   \n",
       " 23657   Tik Famous for video followers, likes, Tiktok ...   \n",
       " 209719         Belajar Mengaji - Learns Quran with Marbel   \n",
       " 54497                                    GPS Route Finder   \n",
       " 184069                            Background Wallpaper HD   \n",
       " 147458                       Bear Theme Picnic with Teddy   \n",
       " \n",
       "                                            App_Id         Category  Rating  \\\n",
       " 96087               com.khemarasoft.fortuneteller        Lifestyle     4.5   \n",
       " 199180                                 com.mrsool         Shopping     4.5   \n",
       " 190749           com.ionicframework.vaadapp212468     Productivity     4.8   \n",
       " 162657               com.tbig.playerpro.skins.oos  Personalization     4.6   \n",
       " 227624                            co.shield.lttok        Education     4.6   \n",
       " ...                                           ...              ...     ...   \n",
       " 23657                   com.smallclever.vv4sights    Entertainment     4.8   \n",
       " 209719              com.educastudio.marbelmengaji        Education     4.5   \n",
       " 54497          com.cookappsstudio.routefinderfree            Tools     4.6   \n",
       " 184069   com.Background.wallpaper.image.wallpaper  Personalization     4.6   \n",
       " 147458  jp.co.a_tm.android.plus_picnic_teddy_bear  Personalization     4.7   \n",
       " \n",
       "         Maximum_Installs  Editors_Choice  \\\n",
       " 96087              50284           False   \n",
       " 199180           6450386           False   \n",
       " 190749             36340           False   \n",
       " 162657             31459           False   \n",
       " 227624             28376           False   \n",
       " ...                  ...             ...   \n",
       " 23657              59146           False   \n",
       " 209719           3597297           False   \n",
       " 54497              76835           False   \n",
       " 184069             35226           False   \n",
       " 147458             28697           False   \n",
       " \n",
       "                                               Description  \\\n",
       " 96087   Want to find out your future? This app is a mu...   \n",
       " 199180  Mrsool is one of the largest delivery platform...   \n",
       " 190749  Hombi, the social App for managing apartment b...   \n",
       " 162657  OOS skin for PlayerPro.\\r\\n\\r\\n✔ 3 free color ...   \n",
       " 227624  Lokseva Academy is an online platform for mana...   \n",
       " ...                                                   ...   \n",
       " 23657   This Tracker app offers valuable information a...   \n",
       " 209719  Marbel Learns Qur'an is educational applicatio...   \n",
       " 54497   Phone Tracker by GPS Navigation is an accurate...   \n",
       " 184069  Background Wallpaper is the collections of nat...   \n",
       " 147458  It's a great day for a picnic. Let's enjoy the...   \n",
       " \n",
       "                                            Privacy_Policy  Sensors  Camera  \\\n",
       " 96087                   http://khemarasoft.com/app-policy        0       0   \n",
       " 199180            https://s.mrsool.co/privacy_policy.html        0       1   \n",
       " 190749                https://hombi.co/privacy_policy.htm        0       0   \n",
       " 162657  https://docs.google.com/document/d/1nMtW_1QbP8...        0       0   \n",
       " 227624                             https://bit.ly/2YDTip0        0       1   \n",
       " ...                                                   ...      ...     ...   \n",
       " 23657      https://sites.google.com/view/amy-privacy/home        0       0   \n",
       " 209719    http://www.educastudio.com/privacypolicies.html        0       0   \n",
       " 54497   http://cookappsstudioprivacypolicy.blogspot.co...        0       0   \n",
       " 184069  https://firebasestorage.googleapis.com/v0/b/pr...        0       0   \n",
       " 147458    https://www.atm-plushome.com/en/appMenu/privacy        0       0   \n",
       " \n",
       "         ...  Contacts  SMS  Storage  Phone  Get_Accounts  Call_Log  \\\n",
       " 96087   ...         0    0        0      0             0         0   \n",
       " 199180  ...         0    0        1      1             1         0   \n",
       " 190749  ...         0    0        1      0             0         0   \n",
       " 162657  ...         0    0        0      1             0         0   \n",
       " 227624  ...         1    0        1      1             0         0   \n",
       " ...     ...       ...  ...      ...    ...           ...       ...   \n",
       " 23657   ...         0    0        1      0             0         0   \n",
       " 209719  ...         0    0        1      0             0         0   \n",
       " 54497   ...         1    0        0      1             0         0   \n",
       " 184069  ...         0    0        1      0             0         0   \n",
       " 147458  ...         0    0        1      0             0         0   \n",
       " \n",
       "         desc_length                                  Clean_Description  \\\n",
       " 96087           370  want to find out your future? this app is a mu...   \n",
       " 199180         1356  mrsool is one of the largest delivery platform...   \n",
       " 190749         1070  hombi, the social app for managing apartment b...   \n",
       " 162657          476  oos skin for playerpro. free color accents pin...   \n",
       " 227624          506  lokseva academy is an online platform for mana...   \n",
       " ...             ...                                                ...   \n",
       " 23657          1332  this tracker app offers valuable information a...   \n",
       " 209719         2860  marbel learns qur'an is educational applicatio...   \n",
       " 54497          2286  phone tracker by gps navigation is an accurate...   \n",
       " 184069         1050  background wallpaper is the collections of nat...   \n",
       " 147458          644  it's a great day for a picnic. let's enjoy the...   \n",
       " \n",
       "         clean_desc_length  token_length  \n",
       " 96087                 365            76  \n",
       " 199180               1310           267  \n",
       " 190749               1046           196  \n",
       " 162657                396            87  \n",
       " 227624                501            92  \n",
       " ...                   ...           ...  \n",
       " 23657                1296           266  \n",
       " 209719               2648           581  \n",
       " 54497                2240           426  \n",
       " 184069                993           200  \n",
       " 147458                615           134  \n",
       " \n",
       " [4050 rows x 23 columns],\n",
       "                                                  App_Name  \\\n",
       " 90313                                   Maritime Schedule   \n",
       " 247902                                FREE Polish by Nemo   \n",
       " 74587                                WPS Wifi Checker Pro   \n",
       " 120817                       CADENAS Parts for Solid Edge   \n",
       " 64353                       Women's Calendar free(nature)   \n",
       " ...                                                   ...   \n",
       " 151930                             Binary options station   \n",
       " 54731   Ojeebu - Quran, Muslim Prayer Times & Adhan, Q...   \n",
       " 146224                       Classic Black Weather Widget   \n",
       " 90123                                             Gallery   \n",
       " 170676                      Multi Stopwatch & Timer  free   \n",
       " \n",
       "                                                    App_Id          Category  \\\n",
       " 90313                    com.dreambrunomsn.escalamaritimo             Tools   \n",
       " 247902                        com.nemoapps.android.polish         Education   \n",
       " 74587                com.rendersoftware.wpswificheckerpro             Tools   \n",
       " 120817                             de.cadenas.secadmodels      Productivity   \n",
       " 64353                application.WomanCalendarLite.nature  Health & Fitness   \n",
       " ...                                                   ...               ...   \n",
       " 151930                      com.lindalltech.binarystation           Finance   \n",
       " 54731                        com.quarterpi.android.ojeebu         Lifestyle   \n",
       " 146224  com.gau.go.weatherex.systemwidgetskin.classicb...   Personalization   \n",
       " 90123                             com.rocks.photosgallery             Tools   \n",
       " 170676                  com.ldroid.multistopwatchandtimer      Productivity   \n",
       " \n",
       "         Rating  Maximum_Installs  Editors_Choice  \\\n",
       " 90313      4.8             21456           False   \n",
       " 247902     4.5            115431           False   \n",
       " 74587      4.6           4395938           False   \n",
       " 120817     4.5             28347           False   \n",
       " 64353      4.5             66594           False   \n",
       " ...        ...               ...             ...   \n",
       " 151930     4.6             42910           False   \n",
       " 54731      4.5             27642           False   \n",
       " 146224     4.5             81060           False   \n",
       " 90123      4.5           1027037           False   \n",
       " 170676     4.6            384111           False   \n",
       " \n",
       "                                               Description  \\\n",
       " 90313   Maritime Schedule allows you to create a work ...   \n",
       " 247902  Nemo is designed to start you speaking the mos...   \n",
       " 74587   With this wps app you can check the security o...   \n",
       " 120817  The CADENAS Parts for Solid Edge app is a down...   \n",
       " 64353   Woman Calendar , it is what every woman needs ...   \n",
       " ...                                                   ...   \n",
       " 151930  Binary options station introduces you the worl...   \n",
       " 54731   Best and ultimate Muslim Ummah App, with <b>Fr...   \n",
       " 146224  Brand new FREE theme for GO Weather widgets. S...   \n",
       " 90123   <h2><b>Gallery: Photo Editor & Collage Maker</...   \n",
       " 170676  \"Multi Stopwatch and Timer\" is  multi function...   \n",
       " \n",
       "                                            Privacy_Policy  Sensors  Camera  \\\n",
       " 90313                                                 NaN        0       0   \n",
       " 247902                        http://nemoapps.com/privacy        0       0   \n",
       " 74587   https://renderxor.github.io/wpswificheckerpro/...        0       0   \n",
       " 120817  https://www.cadenas.de/en/company/data-privacy...        0       1   \n",
       " 64353                        https://maxgol777.github.io/        0       0   \n",
       " ...                                                   ...      ...     ...   \n",
       " 151930         https://binstationterms.000webhostapp.com/        0       0   \n",
       " 54731               http://www.ojeebu.com/privacy-policy/        0       0   \n",
       " 146224      http://www.goforandroid.com/GDTEN/privacy.htm        0       0   \n",
       " 90123          https://www.rocksplayer.com/privacy-policy        0       0   \n",
       " 170676               http://app-web.main.jp/privacypolicy        0       0   \n",
       " \n",
       "         ...  Contacts  SMS  Storage  Phone  Get_Accounts  Call_Log  \\\n",
       " 90313   ...         0    0        0      0             0         0   \n",
       " 247902  ...         0    0        0      0             0         0   \n",
       " 74587   ...         0    0        0      0             0         0   \n",
       " 120817  ...         0    0        1      0             0         0   \n",
       " 64353   ...         1    0        1      0             1         0   \n",
       " ...     ...       ...  ...      ...    ...           ...       ...   \n",
       " 151930  ...         0    0        0      0             0         0   \n",
       " 54731   ...         0    0        1      0             0         0   \n",
       " 146224  ...         0    0        1      1             0         0   \n",
       " 90123   ...         0    0        0      0             0         0   \n",
       " 170676  ...         0    0        1      0             0         0   \n",
       " \n",
       "         desc_length                                  Clean_Description  \\\n",
       " 90313          1836  maritime schedule allows you to create a work ...   \n",
       " 247902         2833  nemo is designed to start you speaking the mos...   \n",
       " 74587          3993  with this wps app you can check the security o...   \n",
       " 120817          689  the cadenas parts for solid edge app is a down...   \n",
       " 64353           462  woman calendar , it is what every woman needs ...   \n",
       " ...             ...                                                ...   \n",
       " 151930         1180  binary options station introduces you the worl...   \n",
       " 54731          3745  best and ultimate muslim ummah app, with free ...   \n",
       " 146224          531  brand new free theme for go weather widgets. s...   \n",
       " 90123          3070  gallery photo editor collage maker gallery pho...   \n",
       " 170676          994  multi stopwatch and timer is multi functional ...   \n",
       " \n",
       "         clean_desc_length  token_length  \n",
       " 90313                1798           380  \n",
       " 247902               2762           540  \n",
       " 74587                3832           826  \n",
       " 120817                647           122  \n",
       " 64353                 394            71  \n",
       " ...                   ...           ...  \n",
       " 151930               1167           214  \n",
       " 54731                3211           719  \n",
       " 146224                298            67  \n",
       " 90123                2836           546  \n",
       " 170676                920           199  \n",
       " \n",
       " [4050 rows x 23 columns],\n",
       "                                                  App_Name  \\\n",
       " 56957         Arabic - English Translator: free & offline   \n",
       " 153011                                     Inferno Galaxy   \n",
       " 245119                         French-Romanian Dictionary   \n",
       " 92345                                Real Tasbeeh Counter   \n",
       " 220157                     Learn Slovenian - 50 languages   \n",
       " ...                                                   ...   \n",
       " 117540   Super High Volume Booster - Loud Speaker Booster   \n",
       " 5972     Temp Mail - Free Instant Temporary Email Address   \n",
       " 216856                           Learn English Vocabulary   \n",
       " 96301   Azan Russia: Namaz Time for All Prayers in Russia   \n",
       " 239068                      Russian-Vietnamese Translator   \n",
       " \n",
       "                                         App_Id         Category  Rating  \\\n",
       " 56957                 com.anhlt.arentranslator            Tools     4.5   \n",
       " 153011  com.maxelus.infernogalaxylivewallpaper  Personalization     4.6   \n",
       " 245119                alldictdict.alldict.frro        Education     4.5   \n",
       " 92345                     com.eymen.zikirmatik        Lifestyle     4.6   \n",
       " 220157                           com.goethe.sl        Education     4.5   \n",
       " ...                                        ...              ...     ...   \n",
       " 117540         com.loud.speaker.volume.booster            Tools     4.5   \n",
       " 5972                              com.tempmail    Communication     4.5   \n",
       " 216856        com.bilinguae.english.vocabulary        Education     4.6   \n",
       " 96301            prayer.azan.namaz.time.russia        Lifestyle     4.6   \n",
       " 239068                    free_translator.ruvi        Education     4.6   \n",
       " \n",
       "         Maximum_Installs  Editors_Choice  \\\n",
       " 56957             264279           False   \n",
       " 153011           4679676           False   \n",
       " 245119             33321           False   \n",
       " 92345              46639           False   \n",
       " 220157             84204           False   \n",
       " ...                  ...             ...   \n",
       " 117540           3675512           False   \n",
       " 5972             7431526           False   \n",
       " 216856            264871           False   \n",
       " 96301              20890           False   \n",
       " 239068             23832           False   \n",
       " \n",
       "                                               Description  \\\n",
       " 56957   Arabic - English translator is an application ...   \n",
       " 153011  Burning corner of the Universe. Inferno Galaxy...   \n",
       " 245119  This is a French-Romanian and Romanian-French ...   \n",
       " 92345   You can easily store your tasbihat with the Sm...   \n",
       " 220157  Learn Slovenian (Slovene)! - \"Slovenian 50 lan...   \n",
       " ...                                                   ...   \n",
       " 117540  <b> Welcome to Super Loud Volume Booster : Sub...   \n",
       " 5972    Using Temp-Mail app, you can instantly generat...   \n",
       " 216856  Free app to learn English by improving your VO...   \n",
       " 96301   How Salah Time Russia will Works?\\r\\nIt is so ...   \n",
       " 239068  This Free translator can quickly translate fro...   \n",
       " \n",
       "                                            Privacy_Policy  Sensors  Camera  \\\n",
       " 56957   https://sites.google.com/view/anhlt-translator...        0       0   \n",
       " 153011                                                NaN        0       0   \n",
       " 245119  https://sites.google.com/view/alldictprivacypo...        0       0   \n",
       " 92345        https://sites.google.com/view/tasbeehcounter        0       0   \n",
       " 220157             http://www.50languages.com/privacy.htm        0       0   \n",
       " ...                                                   ...      ...     ...   \n",
       " 117540          https://sites.google.com/view/toolstudio/        0       0   \n",
       " 5972             https://temp-mail.org/privacy-policy-app        0       1   \n",
       " 216856           https://www.bilinguae.com/privacy-policy        0       0   \n",
       " 96301   https://marktigers.blogspot.com/2020/09/azan-t...        0       0   \n",
       " 239068  https://sites.google.com/view/klays-developmen...        0       0   \n",
       " \n",
       "         ...  Contacts  SMS  Storage  Phone  Get_Accounts  Call_Log  \\\n",
       " 56957   ...         0    0        0      0             0         0   \n",
       " 153011  ...         0    0        0      0             0         0   \n",
       " 245119  ...         0    0        1      0             0         0   \n",
       " 92345   ...         0    0        0      0             0         0   \n",
       " 220157  ...         0    0        1      0             0         0   \n",
       " ...     ...       ...  ...      ...    ...           ...       ...   \n",
       " 117540  ...         0    0        0      0             0         0   \n",
       " 5972    ...         0    0        1      0             0         0   \n",
       " 216856  ...         0    0        1      1             0         0   \n",
       " 96301   ...         0    0        0      0             0         0   \n",
       " 239068  ...         0    0        0      0             0         0   \n",
       " \n",
       "         desc_length                                  Clean_Description  \\\n",
       " 56957          1021  arabic english translator is an application th...   \n",
       " 153011          186  burning corner of the universe. inferno galaxy...   \n",
       " 245119          877  this is a french romanian and romanian french ...   \n",
       " 92345          2081  you can easily store your tasbihat with the sm...   \n",
       " 220157         1410  learn slovenian slovene ! slovenian languages ...   \n",
       " ...             ...                                                ...   \n",
       " 117540         2275  welcome to super loud volume booster subwoofer...   \n",
       " 5972           3515  using temp mail app, you can instantly generat...   \n",
       " 216856         1742  free app to learn english by improving your vo...   \n",
       " 96301          3412  how salah time russia will works? it is so sim...   \n",
       " 239068          656  this free translator can quickly translate fro...   \n",
       " \n",
       "         clean_desc_length  token_length  \n",
       " 56957                 978           175  \n",
       " 153011                166            40  \n",
       " 245119                858           177  \n",
       " 92345                2033           472  \n",
       " 220157               1350           264  \n",
       " ...                   ...           ...  \n",
       " 117540               2147           419  \n",
       " 5972                 3234           642  \n",
       " 216856               1683           334  \n",
       " 96301                3335           690  \n",
       " 239068                590           108  \n",
       " \n",
       " [4049 rows x 23 columns],\n",
       "                                                 App_Name  \\\n",
       " 183970                 Lovely Brown Teddy Keyboard Theme   \n",
       " 77471      Gallery-Photo Manager,Picture Gallery & Album   \n",
       " 172940    Fire Leopard Wolf--APUS Launcher fashion theme   \n",
       " 189379                                     AYA PAY Agent   \n",
       " 55070   Alpha Progression - Strength Training Gym Logger   \n",
       " ...                                                  ...   \n",
       " 110356                    The thonon diet 100% efficient   \n",
       " 208257                            Lifemap - Tree of Life   \n",
       " 214170                      German-Portuguese Translator   \n",
       " 86068         Dulhan Mehndi Henna Designs 2020 (Offline)   \n",
       " 213757                             Ganesh Puja and Aarti   \n",
       " \n",
       "                                                    App_Id          Category  \\\n",
       " 183970             com.ikeyboard.theme.lovely.brown.teddy   Personalization   \n",
       " 77471                      com.photography.gallery.albums             Tools   \n",
       " 172940  com.apusapps.theme.i_fire_leopard_wolf_f638885556   Personalization   \n",
       " 189379                                  com.ayaplus.agent           Finance   \n",
       " 55070               com.alphaprogression.alphaprogression  Health & Fitness   \n",
       " ...                                                   ...               ...   \n",
       " 110356                           com.airakaz.regimethonon         Lifestyle   \n",
       " 208257                           fr.univ_lyon1.lifemapcom         Education   \n",
       " 214170                               free_translator.dept         Education   \n",
       " 86068                com.fashbell966.hasan.fashbellpro212         Lifestyle   \n",
       " 213757                                  ganesh.puja.aarti         Education   \n",
       " \n",
       "         Rating  Maximum_Installs  Editors_Choice  \\\n",
       " 183970     4.5             87951           False   \n",
       " 77471      4.6             37468           False   \n",
       " 172940     4.6             30976           False   \n",
       " 189379     4.7             26924           False   \n",
       " 55070      4.8             46960           False   \n",
       " ...        ...               ...             ...   \n",
       " 110356     4.7             30461           False   \n",
       " 208257     4.6             92721           False   \n",
       " 214170     4.7             38554           False   \n",
       " 86068      4.5             29530           False   \n",
       " 213757     4.6            118965           False   \n",
       " \n",
       "                                               Description  \\\n",
       " 183970  ✨Lovely Brown Teddy Keyboard Theme with new co...   \n",
       " 77471   <b>Gallery</b>free app is the well-designed ga...   \n",
       " 172940  Do you want to apply the wonderful theme with ...   \n",
       " 189379  Agent App is an app of AYAPAY system that is d...   \n",
       " 55070   \"The best app for optimal muscle gain!\" - Patr...   \n",
       " ...                                                   ...   \n",
       " 110356  Looking for a Best diet plan for weight loss? ...   \n",
       " 208257  Lifemap is a tool to interactively explore the...   \n",
       " 214170  This Free translator can quickly translate fro...   \n",
       " 86068   This application (Dulhan Mehndi Designs 2019 o...   \n",
       " 213757  It gives us immense pleasure and pride to anno...   \n",
       " \n",
       "                                            Privacy_Policy  Sensors  Camera  \\\n",
       " 183970  http://www.kikatech.com/privacy_en_kika_keyboa...        0       0   \n",
       " 77471              https://atmiyasoftgroup.wordpress.com/        0       0   \n",
       " 172940  http://static.themes.apusapps.com/theme/privac...        0       0   \n",
       " 189379                       https://www.ayapay.com/eula/        0       1   \n",
       " 55070                https://alphaprogression.com/privacy        1       0   \n",
       " ...                                                   ...      ...     ...   \n",
       " 110356  https://sites.google.com/view/airakaz/privacy-...        0       0   \n",
       " 208257          http://lifemap.univ-lyon1.fr/privacy.html        0       0   \n",
       " 214170  https://sites.google.com/view/klays-developmen...        0       0   \n",
       " 86068   https://sites.google.com/view/dulhan-mehndi-he...        0       0   \n",
       " 213757  https://www.sanatan.org/en/end-user-license-ag...        0       0   \n",
       " \n",
       "         ...  Contacts  SMS  Storage  Phone  Get_Accounts  Call_Log  \\\n",
       " 183970  ...         0    0        1      0             0         0   \n",
       " 77471   ...         0    0        0      0             0         0   \n",
       " 172940  ...         0    0        0      0             0         0   \n",
       " 189379  ...         1    0        1      0             1         0   \n",
       " 55070   ...         0    0        1      0             0         0   \n",
       " ...     ...       ...  ...      ...    ...           ...       ...   \n",
       " 110356  ...         0    0        0      0             0         0   \n",
       " 208257  ...         0    0        0      0             0         0   \n",
       " 214170  ...         0    0        0      0             0         0   \n",
       " 86068   ...         0    0        0      0             0         0   \n",
       " 213757  ...         0    0        0      0             0         0   \n",
       " \n",
       "         desc_length                                  Clean_Description  \\\n",
       " 183970         3049  lovely brown teddy keyboard theme with new coo...   \n",
       " 77471          3439  galleryfree app is the well designed gallery r...   \n",
       " 172940         3683  do you want to apply the wonderful theme with ...   \n",
       " 189379          838  agent app is an app of ayapay system that is d...   \n",
       " 55070          3290  the best app for optimal muscle gain! patrick ...   \n",
       " ...             ...                                                ...   \n",
       " 110356         2036  looking for a best diet plan for weight loss? ...   \n",
       " 208257          998  lifemap is a tool to interactively explore the...   \n",
       " 214170          657  this free translator can quickly translate fro...   \n",
       " 86068          1380  this application dulhan mehndi designs offline...   \n",
       " 213757         3949  it gives us immense pleasure and pride to anno...   \n",
       " \n",
       "         clean_desc_length  token_length  \n",
       " 183970               2944           593  \n",
       " 77471                3303           646  \n",
       " 172940               3473           746  \n",
       " 189379                793           158  \n",
       " 55070                3054           593  \n",
       " ...                   ...           ...  \n",
       " 110356               1896           377  \n",
       " 208257                926           192  \n",
       " 214170                622           117  \n",
       " 86068                1309           274  \n",
       " 213757               3767           863  \n",
       " \n",
       " [4049 rows x 23 columns],\n",
       "                                                 App_Name  \\\n",
       " 181128                       Classic Os12 Keyboard Theme   \n",
       " 61635   Hidden Camera Detector :Electronic Device Finder   \n",
       " 72616                                         10 Fitness   \n",
       " 128325               Cute Devil Girl Keyboard Background   \n",
       " 88230      Yoga Workout by Sunsa. Yoga workout & fitness   \n",
       " ...                                                  ...   \n",
       " 65745                                     Interval timer   \n",
       " 9762                                    Gachi Soundboard   \n",
       " 221417                                 فێربوونی ئینگلیزی   \n",
       " 187048                 Colorful Lion Keyboard Background   \n",
       " 115693             parkrunner: weekly 5k results tracker   \n",
       " \n",
       "                                                App_Id          Category  \\\n",
       " 181128               com.ikeyboard.theme.classic.os12   Personalization   \n",
       " 61635   com.ud.hidden.spy.camera.detectorpro.free2020             Tools   \n",
       " 72616                  com.netpulse.mobile.tenfitness  Health & Fitness   \n",
       " 128325            com.ikeyboard.theme.cute.devil.girl   Personalization   \n",
       " 88230                              com.fitness22.yoga  Health & Fitness   \n",
       " ...                                               ...               ...   \n",
       " 65745                        com.hybrid.intervaltimer  Health & Fitness   \n",
       " 9762                          com.prx.gachisoundboard     Entertainment   \n",
       " 221417          com.mycode.english_kurdish_dictionary         Education   \n",
       " 187048              com.ikeyboard.theme.colorful.lion   Personalization   \n",
       " 115693                     com.chrishopkin.parkrunner  Health & Fitness   \n",
       " \n",
       "         Rating  Maximum_Installs  Editors_Choice  \\\n",
       " 181128     4.6             35419           False   \n",
       " 61635      4.7             21358           False   \n",
       " 72616      4.8             30896           False   \n",
       " 128325     4.6            304657           False   \n",
       " 88230      4.6            109064           False   \n",
       " ...        ...               ...             ...   \n",
       " 65745      4.6            637394           False   \n",
       " 9762       4.7             23571           False   \n",
       " 221417     4.8             69730           False   \n",
       " 187048     4.9             24499           False   \n",
       " 115693     4.8             27588           False   \n",
       " \n",
       "                                               Description  \\\n",
       " 181128  ✨Classic Os12 Keyboard Theme with new cool fon...   \n",
       " 61635   This app work only Magnetometer sensor if your...   \n",
       " 72616   Welcome to the 10 Fitness Gym app! This app co...   \n",
       " 128325  <b>😍Cute Devil Girl Keyboard is a smart & cust...   \n",
       " 88230   Sunsa Yoga offers exclusive exercises plans fo...   \n",
       " ...                                                   ...   \n",
       " 65745   Time your workouts plans with Hybrid Interval ...   \n",
       " 9762    Have you ever had the Twitch to play the loude...   \n",
       " 221417  لە ڕێگای ئەم بەرنامەیەوە .ئەتوانیت بە ئاسانتری...   \n",
       " 187048  <b>Colorful Lion Theme gives you the best keyb...   \n",
       " 115693  Keep track of your weekly 5k run results with ...   \n",
       " \n",
       "                                            Privacy_Policy  Sensors  Camera  \\\n",
       " 181128  http://www.kikatech.com/privacy_en_kika_keyboa...        0       0   \n",
       " 61635   https://sites.google.com/view/unitedtechworld/...        0       1   \n",
       " 72616     https://10fitness.netpulse.com/#/privacy-policy        0       0   \n",
       " 128325  https://design4you19-5652c.web.app/privacy-pol...        0       0   \n",
       " 88230            https://www.fitness22.com/privacy-policy        0       0   \n",
       " ...                                                   ...      ...     ...   \n",
       " 65745   https://sites.google.com/view/hybrid-interval-...        0       0   \n",
       " 9762               http://prxmedia.nl/privacypolicy3.html        0       0   \n",
       " 221417  https://sites.google.com/view/englishkurdishdi...        0       0   \n",
       " 187048  https://trendyteme888-31139.web.app/privacy-po...        0       0   \n",
       " 115693  http://www.chrishopkin.com/parkrunner-privacy-...        0       0   \n",
       " \n",
       "         ...  Contacts  SMS  Storage  Phone  Get_Accounts  Call_Log  \\\n",
       " 181128  ...         0    0        1      0             0         0   \n",
       " 61635   ...         0    0        0      0             0         0   \n",
       " 72616   ...         0    0        0      0             0         0   \n",
       " 128325  ...         0    0        1      0             0         0   \n",
       " 88230   ...         0    0        0      0             0         0   \n",
       " ...     ...       ...  ...      ...    ...           ...       ...   \n",
       " 65745   ...         0    0        0      0             0         0   \n",
       " 9762    ...         0    0        1      0             0         0   \n",
       " 221417  ...         0    0        1      0             0         0   \n",
       " 187048  ...         0    0        1      0             0         0   \n",
       " 115693  ...         0    0        0      0             0         0   \n",
       " \n",
       "         desc_length                                  Clean_Description  \\\n",
       " 181128         2948  classic os keyboard theme with new cool fonts ...   \n",
       " 61635          2424  this app work only magnetometer sensor if your...   \n",
       " 72616           507  welcome to the fitness gym app! this app conta...   \n",
       " 128325         3125  cute devil girl keyboard is a smart customized...   \n",
       " 88230          1544  sunsa yoga offers exclusive exercises plans fo...   \n",
       " ...             ...                                                ...   \n",
       " 65745           886  time your workouts plans with hybrid interval ...   \n",
       " 9762            129  have you ever had the twitch to play the loude...   \n",
       " 221417         1164  . . synonyms relationships entertainment birds...   \n",
       " 187048         3156  colorful lion theme gives you the best keyboar...   \n",
       " 115693          728  keep track of your weekly k run results with p...   \n",
       " \n",
       "         clean_desc_length  token_length  \n",
       " 181128               2812           577  \n",
       " 61635                2346           454  \n",
       " 72616                 496           105  \n",
       " 128325               2874           642  \n",
       " 88230                1497           286  \n",
       " ...                   ...           ...  \n",
       " 65745                 825           164  \n",
       " 9762                  129            34  \n",
       " 221417                544            77  \n",
       " 187048               2915           635  \n",
       " 115693                678           135  \n",
       " \n",
       " [4049 rows x 23 columns]]"
      ]
     },
     "execution_count": 66,
     "metadata": {},
     "output_type": "execute_result"
    }
   ],
   "source": [
    "dfs"
   ]
  },
  {
   "cell_type": "code",
   "execution_count": 67,
   "metadata": {
    "id": "qQobGUAHLO68"
   },
   "outputs": [],
   "source": [
    "df_fold_1 = pd.DataFrame()\n",
    "df_fold_2 = pd.DataFrame()\n",
    "df_fold_3 = pd.DataFrame()\n",
    "df_fold_4 = pd.DataFrame()\n",
    "df_fold_5 = pd.DataFrame()\n",
    "\n",
    "df_fold_1 = dfs[0]\n",
    "df_fold_2 = dfs[1]\n",
    "df_fold_3 = dfs[2]\n",
    "df_fold_4 = dfs[3]\n",
    "df_fold_5 = dfs[4]\n",
    "\n",
    "df_fold_1.reset_index(drop=True,inplace=True)\n",
    "df_fold_2.reset_index(drop=True,inplace=True)\n",
    "df_fold_3.reset_index(drop=True,inplace=True)\n",
    "df_fold_4.reset_index(drop=True,inplace=True)\n",
    "df_fold_5.reset_index(drop=True,inplace=True)"
   ]
  },
  {
   "cell_type": "code",
   "execution_count": 68,
   "metadata": {
    "colab": {
     "base_uri": "https://localhost:8080/",
     "height": 280
    },
    "id": "xttwgGThPUJs",
    "outputId": "6445c5ed-90b8-4d1a-c907-91cab4a3d33b"
   },
   "outputs": [
    {
     "data": {
      "text/html": [
       "<div>\n",
       "<style scoped>\n",
       "    .dataframe tbody tr th:only-of-type {\n",
       "        vertical-align: middle;\n",
       "    }\n",
       "\n",
       "    .dataframe tbody tr th {\n",
       "        vertical-align: top;\n",
       "    }\n",
       "\n",
       "    .dataframe thead th {\n",
       "        text-align: right;\n",
       "    }\n",
       "</style>\n",
       "<table border=\"1\" class=\"dataframe\">\n",
       "  <thead>\n",
       "    <tr style=\"text-align: right;\">\n",
       "      <th></th>\n",
       "      <th>App_Name</th>\n",
       "      <th>App_Id</th>\n",
       "      <th>Category</th>\n",
       "      <th>Rating</th>\n",
       "      <th>Maximum_Installs</th>\n",
       "      <th>Editors_Choice</th>\n",
       "      <th>Description</th>\n",
       "      <th>Privacy_Policy</th>\n",
       "      <th>Sensors</th>\n",
       "      <th>Camera</th>\n",
       "      <th>...</th>\n",
       "      <th>Contacts</th>\n",
       "      <th>SMS</th>\n",
       "      <th>Storage</th>\n",
       "      <th>Phone</th>\n",
       "      <th>Get_Accounts</th>\n",
       "      <th>Call_Log</th>\n",
       "      <th>desc_length</th>\n",
       "      <th>Clean_Description</th>\n",
       "      <th>clean_desc_length</th>\n",
       "      <th>token_length</th>\n",
       "    </tr>\n",
       "  </thead>\n",
       "  <tbody>\n",
       "    <tr>\n",
       "      <th>0</th>\n",
       "      <td>Fortune Teller Khmer</td>\n",
       "      <td>com.khemarasoft.fortuneteller</td>\n",
       "      <td>Lifestyle</td>\n",
       "      <td>4.5</td>\n",
       "      <td>50284</td>\n",
       "      <td>False</td>\n",
       "      <td>Want to find out your future? This app is a mu...</td>\n",
       "      <td>http://khemarasoft.com/app-policy</td>\n",
       "      <td>0</td>\n",
       "      <td>0</td>\n",
       "      <td>...</td>\n",
       "      <td>0</td>\n",
       "      <td>0</td>\n",
       "      <td>0</td>\n",
       "      <td>0</td>\n",
       "      <td>0</td>\n",
       "      <td>0</td>\n",
       "      <td>370</td>\n",
       "      <td>want to find out your future? this app is a mu...</td>\n",
       "      <td>365</td>\n",
       "      <td>76</td>\n",
       "    </tr>\n",
       "    <tr>\n",
       "      <th>1</th>\n",
       "      <td>Mrsool | مرسول</td>\n",
       "      <td>com.mrsool</td>\n",
       "      <td>Shopping</td>\n",
       "      <td>4.5</td>\n",
       "      <td>6450386</td>\n",
       "      <td>False</td>\n",
       "      <td>Mrsool is one of the largest delivery platform...</td>\n",
       "      <td>https://s.mrsool.co/privacy_policy.html</td>\n",
       "      <td>0</td>\n",
       "      <td>1</td>\n",
       "      <td>...</td>\n",
       "      <td>0</td>\n",
       "      <td>0</td>\n",
       "      <td>1</td>\n",
       "      <td>1</td>\n",
       "      <td>1</td>\n",
       "      <td>0</td>\n",
       "      <td>1356</td>\n",
       "      <td>mrsool is one of the largest delivery platform...</td>\n",
       "      <td>1310</td>\n",
       "      <td>267</td>\n",
       "    </tr>\n",
       "  </tbody>\n",
       "</table>\n",
       "<p>2 rows × 23 columns</p>\n",
       "</div>"
      ],
      "text/plain": [
       "               App_Name                         App_Id   Category  Rating  \\\n",
       "0  Fortune Teller Khmer  com.khemarasoft.fortuneteller  Lifestyle     4.5   \n",
       "1        Mrsool | مرسول                     com.mrsool   Shopping     4.5   \n",
       "\n",
       "   Maximum_Installs  Editors_Choice  \\\n",
       "0             50284           False   \n",
       "1           6450386           False   \n",
       "\n",
       "                                         Description  \\\n",
       "0  Want to find out your future? This app is a mu...   \n",
       "1  Mrsool is one of the largest delivery platform...   \n",
       "\n",
       "                            Privacy_Policy  Sensors  Camera  ...  Contacts  \\\n",
       "0        http://khemarasoft.com/app-policy        0       0  ...         0   \n",
       "1  https://s.mrsool.co/privacy_policy.html        0       1  ...         0   \n",
       "\n",
       "   SMS  Storage  Phone  Get_Accounts  Call_Log  desc_length  \\\n",
       "0    0        0      0             0         0          370   \n",
       "1    0        1      1             1         0         1356   \n",
       "\n",
       "                                   Clean_Description  clean_desc_length  \\\n",
       "0  want to find out your future? this app is a mu...                365   \n",
       "1  mrsool is one of the largest delivery platform...               1310   \n",
       "\n",
       "   token_length  \n",
       "0            76  \n",
       "1           267  \n",
       "\n",
       "[2 rows x 23 columns]"
      ]
     },
     "execution_count": 68,
     "metadata": {},
     "output_type": "execute_result"
    }
   ],
   "source": [
    "df_fold_1.head(2)"
   ]
  },
  {
   "cell_type": "code",
   "execution_count": 69,
   "metadata": {
    "id": "LntkgaZfO9wl"
   },
   "outputs": [],
   "source": [
    "def intersection(lst1, lst2):\n",
    "    lst3 = [value for value in lst1 if value in lst2]\n",
    "    return lst3"
   ]
  },
  {
   "cell_type": "code",
   "execution_count": 70,
   "metadata": {
    "colab": {
     "base_uri": "https://localhost:8080/"
    },
    "id": "AdzGWWQiO3NR",
    "outputId": "03eb839b-8b9d-4b9f-ca4f-7d446d7844b8"
   },
   "outputs": [
    {
     "name": "stdout",
     "output_type": "stream",
     "text": [
      "[]\n"
     ]
    }
   ],
   "source": [
    "print(intersection(df_fold_1['App_Id'], df_fold_2['App_Id']))"
   ]
  },
  {
   "cell_type": "code",
   "execution_count": 71,
   "metadata": {
    "colab": {
     "base_uri": "https://localhost:8080/"
    },
    "id": "wHTI5Ah8LvUr",
    "outputId": "881c3f12-ee63-4ec2-81a1-c2a9fdc48427"
   },
   "outputs": [
    {
     "name": "stdout",
     "output_type": "stream",
     "text": [
      "[]\n"
     ]
    }
   ],
   "source": [
    "print(intersection(df_fold_4['App_Id'], df_fold_5['App_Id']))"
   ]
  },
  {
   "cell_type": "markdown",
   "metadata": {
    "id": "-OXopDN3QLlb"
   },
   "source": [
    "#### Now, we have 5 distinct disjoint sets."
   ]
  },
  {
   "cell_type": "markdown",
   "metadata": {
    "id": "Wm8yVCjMSttf"
   },
   "source": [
    "Cross Validation 1 ----"
   ]
  },
  {
   "cell_type": "code",
   "execution_count": 72,
   "metadata": {
    "id": "3Lfm9uLg8Vax"
   },
   "outputs": [],
   "source": [
    "CV_df_train_1 = pd.DataFrame()\n",
    "CV_df_val_1 = pd.DataFrame()\n",
    "\n",
    "CV_df_train_1 = df_fold_1.append(df_fold_2, ignore_index=True)\n",
    "CV_df_train_1.reset_index(drop=True,inplace=True)\n",
    "CV_df_train_1 = CV_df_train_1.append(df_fold_3, ignore_index=True)\n",
    "CV_df_train_1.reset_index(drop=True,inplace=True)\n",
    "CV_df_train_1 = CV_df_train_1.append(df_fold_4, ignore_index=True)\n",
    "CV_df_train_1.reset_index(drop=True,inplace=True)\n",
    "\n",
    "CV_df_val_1 = df_fold_5\n",
    "CV_df_val_1.reset_index(drop=True,inplace=True)\n",
    "\n",
    "CV_df_train_1.to_csv(\"CV_df_train_1.csv\",index=False)\n",
    "CV_df_val_1.to_csv(\"CV_df_val_1.csv\",index=False)"
   ]
  },
  {
   "cell_type": "markdown",
   "metadata": {
    "id": "beOTopP-gjjZ"
   },
   "source": [
    "Cross Validation 2 ---"
   ]
  },
  {
   "cell_type": "code",
   "execution_count": 73,
   "metadata": {
    "id": "Hk_BrwUhgnpn"
   },
   "outputs": [],
   "source": [
    "CV_df_train_2 = pd.DataFrame()\n",
    "CV_df_val_2 = pd.DataFrame()\n",
    "\n",
    "CV_df_train_2 = df_fold_1.append(df_fold_2, ignore_index=True)\n",
    "CV_df_train_2.reset_index(drop=True,inplace=True)\n",
    "CV_df_train_2 = CV_df_train_2.append(df_fold_3, ignore_index=True)\n",
    "CV_df_train_2.reset_index(drop=True,inplace=True)\n",
    "CV_df_train_2 = CV_df_train_2.append(df_fold_5, ignore_index=True)\n",
    "CV_df_train_2.reset_index(drop=True,inplace=True)\n",
    "\n",
    "CV_df_val_2 = df_fold_4\n",
    "CV_df_val_2.reset_index(drop=True,inplace=True)\n",
    "\n",
    "CV_df_train_2.to_csv(\"CV_df_train_2.csv\",index=False)\n",
    "CV_df_val_2.to_csv(\"CV_df_val_2.csv\",index=False)"
   ]
  },
  {
   "cell_type": "markdown",
   "metadata": {
    "id": "My9_3AEGgrdN"
   },
   "source": [
    "Cross Validation 3 ---"
   ]
  },
  {
   "cell_type": "code",
   "execution_count": 74,
   "metadata": {
    "id": "2bTVIVzOgyo8"
   },
   "outputs": [],
   "source": [
    "CV_df_train_3 = pd.DataFrame()\n",
    "CV_df_val_3 = pd.DataFrame()\n",
    "\n",
    "CV_df_train_3 = df_fold_1.append(df_fold_2, ignore_index=True)\n",
    "CV_df_train_3.reset_index(drop=True,inplace=True)\n",
    "CV_df_train_3 = CV_df_train_3.append(df_fold_4, ignore_index=True)\n",
    "CV_df_train_3.reset_index(drop=True,inplace=True)\n",
    "CV_df_train_3 = CV_df_train_3.append(df_fold_5, ignore_index=True)\n",
    "CV_df_train_3.reset_index(drop=True,inplace=True)\n",
    "\n",
    "CV_df_val_3 = df_fold_3\n",
    "CV_df_val_3.reset_index(drop=True,inplace=True)\n",
    "\n",
    "CV_df_train_3.to_csv(\"CV_df_train_3.csv\",index=False)\n",
    "CV_df_val_3.to_csv(\"CV_df_val_3.csv\",index=False)"
   ]
  },
  {
   "cell_type": "markdown",
   "metadata": {
    "id": "t2iKRkOMgr2u"
   },
   "source": [
    "Cross Validation 4 ---"
   ]
  },
  {
   "cell_type": "code",
   "execution_count": 75,
   "metadata": {
    "id": "mqTY4VYEgzmA"
   },
   "outputs": [],
   "source": [
    "CV_df_train_4 = pd.DataFrame()\n",
    "CV_df_val_4 = pd.DataFrame()\n",
    "\n",
    "CV_df_train_4 = df_fold_1.append(df_fold_3, ignore_index=True)\n",
    "CV_df_train_4.reset_index(drop=True,inplace=True)\n",
    "CV_df_train_4 = CV_df_train_4.append(df_fold_4, ignore_index=True)\n",
    "CV_df_train_4.reset_index(drop=True,inplace=True)\n",
    "CV_df_train_4 = CV_df_train_4.append(df_fold_5, ignore_index=True)\n",
    "CV_df_train_4.reset_index(drop=True,inplace=True)\n",
    "\n",
    "CV_df_val_4 = df_fold_2\n",
    "CV_df_val_4.reset_index(drop=True,inplace=True)\n",
    "\n",
    "CV_df_train_4.to_csv(\"CV_df_train_4.csv\",index=False)\n",
    "CV_df_val_4.to_csv(\"CV_df_val_4.csv\",index=False)"
   ]
  },
  {
   "cell_type": "markdown",
   "metadata": {
    "id": "YGsRif5IgsOT"
   },
   "source": [
    "Cross Validation 5 ---"
   ]
  },
  {
   "cell_type": "code",
   "execution_count": 76,
   "metadata": {
    "id": "ll_9sF9cg0YS"
   },
   "outputs": [],
   "source": [
    "CV_df_train_5 = pd.DataFrame()\n",
    "CV_df_val_5 = pd.DataFrame()\n",
    "\n",
    "CV_df_train_5 = df_fold_2.append(df_fold_3, ignore_index=True)\n",
    "CV_df_train_5.reset_index(drop=True,inplace=True)\n",
    "CV_df_train_5 = CV_df_train_5.append(df_fold_4, ignore_index=True)\n",
    "CV_df_train_5.reset_index(drop=True,inplace=True)\n",
    "CV_df_train_5 = CV_df_train_5.append(df_fold_5, ignore_index=True)\n",
    "CV_df_train_5.reset_index(drop=True,inplace=True)\n",
    "\n",
    "CV_df_val_5 = df_fold_1\n",
    "CV_df_val_5.reset_index(drop=True,inplace=True)\n",
    "\n",
    "CV_df_train_5.to_csv(\"CV_df_train_5.csv\",index=False)\n",
    "CV_df_val_5.to_csv(\"CV_df_val_5.csv\",index=False)"
   ]
  },
  {
   "cell_type": "code",
   "execution_count": null,
   "metadata": {
    "id": "-uDg9oUOg1iU"
   },
   "outputs": [],
   "source": []
  },
  {
   "cell_type": "code",
   "execution_count": 77,
   "metadata": {
    "id": "j2OLk7Q9g1fW"
   },
   "outputs": [
    {
     "data": {
      "text/plain": [
       "(16198, 23)"
      ]
     },
     "execution_count": 77,
     "metadata": {},
     "output_type": "execute_result"
    }
   ],
   "source": [
    "CV_df_train_1.shape"
   ]
  },
  {
   "cell_type": "code",
   "execution_count": 78,
   "metadata": {},
   "outputs": [
    {
     "data": {
      "text/plain": [
       "(16198, 23)"
      ]
     },
     "execution_count": 78,
     "metadata": {},
     "output_type": "execute_result"
    }
   ],
   "source": [
    "CV_df_train_2.shape"
   ]
  },
  {
   "cell_type": "code",
   "execution_count": 79,
   "metadata": {},
   "outputs": [
    {
     "data": {
      "text/plain": [
       "(16198, 23)"
      ]
     },
     "execution_count": 79,
     "metadata": {},
     "output_type": "execute_result"
    }
   ],
   "source": [
    "CV_df_train_3.shape"
   ]
  },
  {
   "cell_type": "code",
   "execution_count": 80,
   "metadata": {},
   "outputs": [
    {
     "data": {
      "text/plain": [
       "(16197, 23)"
      ]
     },
     "execution_count": 80,
     "metadata": {},
     "output_type": "execute_result"
    }
   ],
   "source": [
    "CV_df_train_4.shape"
   ]
  },
  {
   "cell_type": "code",
   "execution_count": 81,
   "metadata": {},
   "outputs": [
    {
     "data": {
      "text/plain": [
       "(16197, 23)"
      ]
     },
     "execution_count": 81,
     "metadata": {},
     "output_type": "execute_result"
    }
   ],
   "source": [
    "CV_df_train_5.shape"
   ]
  },
  {
   "cell_type": "code",
   "execution_count": 82,
   "metadata": {},
   "outputs": [
    {
     "data": {
      "text/plain": [
       "(4049, 23)"
      ]
     },
     "execution_count": 82,
     "metadata": {},
     "output_type": "execute_result"
    }
   ],
   "source": [
    "CV_df_val_1.shape"
   ]
  },
  {
   "cell_type": "code",
   "execution_count": 83,
   "metadata": {},
   "outputs": [
    {
     "data": {
      "text/plain": [
       "(4049, 23)"
      ]
     },
     "execution_count": 83,
     "metadata": {},
     "output_type": "execute_result"
    }
   ],
   "source": [
    "CV_df_val_2.shape"
   ]
  },
  {
   "cell_type": "code",
   "execution_count": 84,
   "metadata": {},
   "outputs": [
    {
     "data": {
      "text/plain": [
       "(4049, 23)"
      ]
     },
     "execution_count": 84,
     "metadata": {},
     "output_type": "execute_result"
    }
   ],
   "source": [
    "CV_df_val_3.shape"
   ]
  },
  {
   "cell_type": "code",
   "execution_count": 85,
   "metadata": {},
   "outputs": [
    {
     "data": {
      "text/plain": [
       "(4050, 23)"
      ]
     },
     "execution_count": 85,
     "metadata": {},
     "output_type": "execute_result"
    }
   ],
   "source": [
    "CV_df_val_4.shape"
   ]
  },
  {
   "cell_type": "code",
   "execution_count": 86,
   "metadata": {},
   "outputs": [
    {
     "data": {
      "text/plain": [
       "(4050, 23)"
      ]
     },
     "execution_count": 86,
     "metadata": {},
     "output_type": "execute_result"
    }
   ],
   "source": [
    "CV_df_val_5.shape"
   ]
  },
  {
   "cell_type": "code",
   "execution_count": null,
   "metadata": {},
   "outputs": [],
   "source": []
  }
 ],
 "metadata": {
  "colab": {
   "collapsed_sections": [],
   "name": "K-fold-Validation.ipynb",
   "provenance": []
  },
  "kernelspec": {
   "display_name": "Python 3 (ipykernel)",
   "language": "python",
   "name": "python3"
  },
  "language_info": {
   "codemirror_mode": {
    "name": "ipython",
    "version": 3
   },
   "file_extension": ".py",
   "mimetype": "text/x-python",
   "name": "python",
   "nbconvert_exporter": "python",
   "pygments_lexer": "ipython3",
   "version": "3.7.11"
  }
 },
 "nbformat": 4,
 "nbformat_minor": 1
}
