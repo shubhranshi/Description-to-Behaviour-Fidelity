{
 "cells": [
  {
   "cell_type": "markdown",
   "id": "1b449c58",
   "metadata": {},
   "source": [
    "## Data Recon"
   ]
  },
  {
   "cell_type": "code",
   "execution_count": 1,
   "id": "d8e00e8c",
   "metadata": {},
   "outputs": [],
   "source": [
    "## import libraries\n",
    "\n",
    "import itertools\n",
    "import numpy as np\n",
    "import matplotlib.pyplot as plt\n",
    "\n",
    "import pandas as pd\n",
    "import numpy as np\n",
    "\n",
    "from sklearn import preprocessing\n",
    "%matplotlib inline"
   ]
  },
  {
   "cell_type": "code",
   "execution_count": 2,
   "id": "a3559c07",
   "metadata": {},
   "outputs": [
    {
     "data": {
      "text/html": [
       "<div>\n",
       "<style scoped>\n",
       "    .dataframe tbody tr th:only-of-type {\n",
       "        vertical-align: middle;\n",
       "    }\n",
       "\n",
       "    .dataframe tbody tr th {\n",
       "        vertical-align: top;\n",
       "    }\n",
       "\n",
       "    .dataframe thead th {\n",
       "        text-align: right;\n",
       "    }\n",
       "</style>\n",
       "<table border=\"1\" class=\"dataframe\">\n",
       "  <thead>\n",
       "    <tr style=\"text-align: right;\">\n",
       "      <th></th>\n",
       "      <th>App_Name</th>\n",
       "      <th>App_Id</th>\n",
       "      <th>Category</th>\n",
       "      <th>Rating</th>\n",
       "      <th>Maximum_Installs</th>\n",
       "      <th>Editors_Choice</th>\n",
       "      <th>Description</th>\n",
       "      <th>Privacy_Policy</th>\n",
       "      <th>Sensors</th>\n",
       "      <th>Camera</th>\n",
       "      <th>...</th>\n",
       "      <th>Contacts</th>\n",
       "      <th>SMS</th>\n",
       "      <th>Storage</th>\n",
       "      <th>Phone</th>\n",
       "      <th>Get_Accounts</th>\n",
       "      <th>Call_Log</th>\n",
       "      <th>desc_length</th>\n",
       "      <th>Clean_Description</th>\n",
       "      <th>clean_desc_length</th>\n",
       "      <th>token_length</th>\n",
       "    </tr>\n",
       "  </thead>\n",
       "  <tbody>\n",
       "    <tr>\n",
       "      <th>0</th>\n",
       "      <td>Coloring Book Barbaie</td>\n",
       "      <td>com.bisgumah.barbie</td>\n",
       "      <td>Entertainment</td>\n",
       "      <td>3.8</td>\n",
       "      <td>646456</td>\n",
       "      <td>False</td>\n",
       "      <td>this book can be used for all ages from childr...</td>\n",
       "      <td>https://docs.google.com/document/d/1kUDGpRA8fF...</td>\n",
       "      <td>0</td>\n",
       "      <td>0</td>\n",
       "      <td>...</td>\n",
       "      <td>0</td>\n",
       "      <td>0</td>\n",
       "      <td>1</td>\n",
       "      <td>0</td>\n",
       "      <td>0</td>\n",
       "      <td>0</td>\n",
       "      <td>1167</td>\n",
       "      <td>this book can be used for all ages from childr...</td>\n",
       "      <td>1136</td>\n",
       "      <td>226</td>\n",
       "    </tr>\n",
       "    <tr>\n",
       "      <th>1</th>\n",
       "      <td>Dj Car Sound And Sound Effects 2019</td>\n",
       "      <td>com.melonappsvpn.dj_carsounds</td>\n",
       "      <td>Entertainment</td>\n",
       "      <td>0.0</td>\n",
       "      <td>396</td>\n",
       "      <td>False</td>\n",
       "      <td>DJ Car Sound And Sound Effects 2019 is a car s...</td>\n",
       "      <td>https://www.hamootech.com/privacy_policy.php</td>\n",
       "      <td>0</td>\n",
       "      <td>0</td>\n",
       "      <td>...</td>\n",
       "      <td>0</td>\n",
       "      <td>0</td>\n",
       "      <td>0</td>\n",
       "      <td>0</td>\n",
       "      <td>0</td>\n",
       "      <td>0</td>\n",
       "      <td>340</td>\n",
       "      <td>dj car sound and sound effects is a car sound ...</td>\n",
       "      <td>330</td>\n",
       "      <td>65</td>\n",
       "    </tr>\n",
       "  </tbody>\n",
       "</table>\n",
       "<p>2 rows × 23 columns</p>\n",
       "</div>"
      ],
      "text/plain": [
       "                              App_Name                         App_Id  \\\n",
       "0                Coloring Book Barbaie            com.bisgumah.barbie   \n",
       "1  Dj Car Sound And Sound Effects 2019  com.melonappsvpn.dj_carsounds   \n",
       "\n",
       "        Category  Rating  Maximum_Installs  Editors_Choice  \\\n",
       "0  Entertainment     3.8            646456           False   \n",
       "1  Entertainment     0.0               396           False   \n",
       "\n",
       "                                         Description  \\\n",
       "0  this book can be used for all ages from childr...   \n",
       "1  DJ Car Sound And Sound Effects 2019 is a car s...   \n",
       "\n",
       "                                      Privacy_Policy  Sensors  Camera  ...  \\\n",
       "0  https://docs.google.com/document/d/1kUDGpRA8fF...        0       0  ...   \n",
       "1       https://www.hamootech.com/privacy_policy.php        0       0  ...   \n",
       "\n",
       "   Contacts  SMS  Storage  Phone  Get_Accounts  Call_Log  desc_length  \\\n",
       "0         0    0        1      0             0         0         1167   \n",
       "1         0    0        0      0             0         0          340   \n",
       "\n",
       "                                   Clean_Description  clean_desc_length  \\\n",
       "0  this book can be used for all ages from childr...               1136   \n",
       "1  dj car sound and sound effects is a car sound ...                330   \n",
       "\n",
       "   token_length  \n",
       "0           226  \n",
       "1            65  \n",
       "\n",
       "[2 rows x 23 columns]"
      ]
     },
     "execution_count": 2,
     "metadata": {},
     "output_type": "execute_result"
    }
   ],
   "source": [
    "# d1 : Business, Entertainment, Communication\n",
    "df_d1 = pd.read_csv('d1-group/preprocessSTG9_d1.csv')\n",
    "df_d1.head(2)"
   ]
  },
  {
   "cell_type": "code",
   "execution_count": 3,
   "id": "a57d5a64",
   "metadata": {},
   "outputs": [
    {
     "data": {
      "text/plain": [
       "(189447, 23)"
      ]
     },
     "execution_count": 3,
     "metadata": {},
     "output_type": "execute_result"
    }
   ],
   "source": [
    "df_d1.shape"
   ]
  },
  {
   "cell_type": "code",
   "execution_count": 4,
   "id": "99952196",
   "metadata": {},
   "outputs": [
    {
     "data": {
      "text/html": [
       "<div>\n",
       "<style scoped>\n",
       "    .dataframe tbody tr th:only-of-type {\n",
       "        vertical-align: middle;\n",
       "    }\n",
       "\n",
       "    .dataframe tbody tr th {\n",
       "        vertical-align: top;\n",
       "    }\n",
       "\n",
       "    .dataframe thead th {\n",
       "        text-align: right;\n",
       "    }\n",
       "</style>\n",
       "<table border=\"1\" class=\"dataframe\">\n",
       "  <thead>\n",
       "    <tr style=\"text-align: right;\">\n",
       "      <th></th>\n",
       "      <th>App_Name</th>\n",
       "      <th>App_Id</th>\n",
       "      <th>Category</th>\n",
       "      <th>Rating</th>\n",
       "      <th>Maximum_Installs</th>\n",
       "      <th>Editors_Choice</th>\n",
       "      <th>Description</th>\n",
       "      <th>Privacy_Policy</th>\n",
       "      <th>Sensors</th>\n",
       "      <th>Camera</th>\n",
       "      <th>...</th>\n",
       "      <th>Contacts</th>\n",
       "      <th>SMS</th>\n",
       "      <th>Storage</th>\n",
       "      <th>Phone</th>\n",
       "      <th>Get_Accounts</th>\n",
       "      <th>Call_Log</th>\n",
       "      <th>desc_length</th>\n",
       "      <th>Clean_Description</th>\n",
       "      <th>clean_desc_length</th>\n",
       "      <th>token_length</th>\n",
       "    </tr>\n",
       "  </thead>\n",
       "  <tbody>\n",
       "    <tr>\n",
       "      <th>0</th>\n",
       "      <td>Ampere Battery Info</td>\n",
       "      <td>com.webserveis.batteryinfo</td>\n",
       "      <td>Tools</td>\n",
       "      <td>4.4</td>\n",
       "      <td>7662</td>\n",
       "      <td>False</td>\n",
       "      <td>Ampere Battery Info helps you detect if you ar...</td>\n",
       "      <td>https://dev4phones.wordpress.com/licencia-de-uso/</td>\n",
       "      <td>0</td>\n",
       "      <td>0</td>\n",
       "      <td>...</td>\n",
       "      <td>0</td>\n",
       "      <td>0</td>\n",
       "      <td>0</td>\n",
       "      <td>0</td>\n",
       "      <td>0</td>\n",
       "      <td>0</td>\n",
       "      <td>975</td>\n",
       "      <td>ampere battery info helps you detect if you ar...</td>\n",
       "      <td>890</td>\n",
       "      <td>173</td>\n",
       "    </tr>\n",
       "    <tr>\n",
       "      <th>1</th>\n",
       "      <td>The Everyday Calendar</td>\n",
       "      <td>com.mozaix.simoneboard</td>\n",
       "      <td>Lifestyle</td>\n",
       "      <td>2.0</td>\n",
       "      <td>702</td>\n",
       "      <td>False</td>\n",
       "      <td>he Every Day Calendar is a mobile application ...</td>\n",
       "      <td>https://www.freeprivacypolicy.com/privacy/view...</td>\n",
       "      <td>0</td>\n",
       "      <td>1</td>\n",
       "      <td>...</td>\n",
       "      <td>1</td>\n",
       "      <td>0</td>\n",
       "      <td>1</td>\n",
       "      <td>1</td>\n",
       "      <td>0</td>\n",
       "      <td>0</td>\n",
       "      <td>336</td>\n",
       "      <td>he every day calendar is a mobile application ...</td>\n",
       "      <td>336</td>\n",
       "      <td>72</td>\n",
       "    </tr>\n",
       "  </tbody>\n",
       "</table>\n",
       "<p>2 rows × 23 columns</p>\n",
       "</div>"
      ],
      "text/plain": [
       "                App_Name                      App_Id   Category  Rating  \\\n",
       "0    Ampere Battery Info  com.webserveis.batteryinfo      Tools     4.4   \n",
       "1  The Everyday Calendar      com.mozaix.simoneboard  Lifestyle     2.0   \n",
       "\n",
       "   Maximum_Installs  Editors_Choice  \\\n",
       "0              7662           False   \n",
       "1               702           False   \n",
       "\n",
       "                                         Description  \\\n",
       "0  Ampere Battery Info helps you detect if you ar...   \n",
       "1  he Every Day Calendar is a mobile application ...   \n",
       "\n",
       "                                      Privacy_Policy  Sensors  Camera  ...  \\\n",
       "0  https://dev4phones.wordpress.com/licencia-de-uso/        0       0  ...   \n",
       "1  https://www.freeprivacypolicy.com/privacy/view...        0       1  ...   \n",
       "\n",
       "   Contacts  SMS  Storage  Phone  Get_Accounts  Call_Log  desc_length  \\\n",
       "0         0    0        0      0             0         0          975   \n",
       "1         1    0        1      1             0         0          336   \n",
       "\n",
       "                                   Clean_Description  clean_desc_length  \\\n",
       "0  ampere battery info helps you detect if you ar...                890   \n",
       "1  he every day calendar is a mobile application ...                336   \n",
       "\n",
       "   token_length  \n",
       "0           173  \n",
       "1            72  \n",
       "\n",
       "[2 rows x 23 columns]"
      ]
     },
     "execution_count": 4,
     "metadata": {},
     "output_type": "execute_result"
    }
   ],
   "source": [
    "# d2 : Lifestyle, Health & Fitness, Tools\n",
    "df_d2 = pd.read_csv('d2-group/preprocessSTG9_d2.csv')\n",
    "df_d2.head(2)"
   ]
  },
  {
   "cell_type": "code",
   "execution_count": 5,
   "id": "a7fe44ec",
   "metadata": {},
   "outputs": [
    {
     "data": {
      "text/plain": [
       "(217795, 23)"
      ]
     },
     "execution_count": 5,
     "metadata": {},
     "output_type": "execute_result"
    }
   ],
   "source": [
    "df_d2.shape"
   ]
  },
  {
   "cell_type": "code",
   "execution_count": 6,
   "id": "cb6baf95",
   "metadata": {},
   "outputs": [
    {
     "data": {
      "text/html": [
       "<div>\n",
       "<style scoped>\n",
       "    .dataframe tbody tr th:only-of-type {\n",
       "        vertical-align: middle;\n",
       "    }\n",
       "\n",
       "    .dataframe tbody tr th {\n",
       "        vertical-align: top;\n",
       "    }\n",
       "\n",
       "    .dataframe thead th {\n",
       "        text-align: right;\n",
       "    }\n",
       "</style>\n",
       "<table border=\"1\" class=\"dataframe\">\n",
       "  <thead>\n",
       "    <tr style=\"text-align: right;\">\n",
       "      <th></th>\n",
       "      <th>App_Name</th>\n",
       "      <th>App_Id</th>\n",
       "      <th>Category</th>\n",
       "      <th>Rating</th>\n",
       "      <th>Maximum_Installs</th>\n",
       "      <th>Editors_Choice</th>\n",
       "      <th>Description</th>\n",
       "      <th>Privacy_Policy</th>\n",
       "      <th>Sensors</th>\n",
       "      <th>Camera</th>\n",
       "      <th>...</th>\n",
       "      <th>Contacts</th>\n",
       "      <th>SMS</th>\n",
       "      <th>Storage</th>\n",
       "      <th>Phone</th>\n",
       "      <th>Get_Accounts</th>\n",
       "      <th>Call_Log</th>\n",
       "      <th>desc_length</th>\n",
       "      <th>Clean_Description</th>\n",
       "      <th>clean_desc_length</th>\n",
       "      <th>token_length</th>\n",
       "    </tr>\n",
       "  </thead>\n",
       "  <tbody>\n",
       "    <tr>\n",
       "      <th>0</th>\n",
       "      <td>IMOCCI</td>\n",
       "      <td>com.imocci</td>\n",
       "      <td>Social</td>\n",
       "      <td>0.0</td>\n",
       "      <td>89</td>\n",
       "      <td>False</td>\n",
       "      <td>IMOCCI is the new means of communication via A...</td>\n",
       "      <td>https://www.imocci.com/wp-content/uploads/2018...</td>\n",
       "      <td>0</td>\n",
       "      <td>0</td>\n",
       "      <td>...</td>\n",
       "      <td>1</td>\n",
       "      <td>0</td>\n",
       "      <td>1</td>\n",
       "      <td>0</td>\n",
       "      <td>0</td>\n",
       "      <td>0</td>\n",
       "      <td>1905</td>\n",
       "      <td>imocci is the new means of communication via a...</td>\n",
       "      <td>1797</td>\n",
       "      <td>407</td>\n",
       "    </tr>\n",
       "    <tr>\n",
       "      <th>1</th>\n",
       "      <td>Neon 3d Iron Tech Keyboard Theme</td>\n",
       "      <td>com.ikeyboard.theme.neon_3d.iron.tech</td>\n",
       "      <td>Personalization</td>\n",
       "      <td>4.7</td>\n",
       "      <td>62433</td>\n",
       "      <td>False</td>\n",
       "      <td>💌&lt;b&gt;Neon 3d Iron Tech Theme Keyboard&lt;/b&gt;💌\\r\\n\\...</td>\n",
       "      <td>http://bit.ly/EmojiThemePro</td>\n",
       "      <td>0</td>\n",
       "      <td>0</td>\n",
       "      <td>...</td>\n",
       "      <td>0</td>\n",
       "      <td>0</td>\n",
       "      <td>1</td>\n",
       "      <td>0</td>\n",
       "      <td>0</td>\n",
       "      <td>0</td>\n",
       "      <td>3439</td>\n",
       "      <td>neon d iron tech theme keyboard install our ke...</td>\n",
       "      <td>3099</td>\n",
       "      <td>688</td>\n",
       "    </tr>\n",
       "  </tbody>\n",
       "</table>\n",
       "<p>2 rows × 23 columns</p>\n",
       "</div>"
      ],
      "text/plain": [
       "                           App_Name                                 App_Id  \\\n",
       "0                            IMOCCI                             com.imocci   \n",
       "1  Neon 3d Iron Tech Keyboard Theme  com.ikeyboard.theme.neon_3d.iron.tech   \n",
       "\n",
       "          Category  Rating  Maximum_Installs  Editors_Choice  \\\n",
       "0           Social     0.0                89           False   \n",
       "1  Personalization     4.7             62433           False   \n",
       "\n",
       "                                         Description  \\\n",
       "0  IMOCCI is the new means of communication via A...   \n",
       "1  💌<b>Neon 3d Iron Tech Theme Keyboard</b>💌\\r\\n\\...   \n",
       "\n",
       "                                      Privacy_Policy  Sensors  Camera  ...  \\\n",
       "0  https://www.imocci.com/wp-content/uploads/2018...        0       0  ...   \n",
       "1                        http://bit.ly/EmojiThemePro        0       0  ...   \n",
       "\n",
       "   Contacts  SMS  Storage  Phone  Get_Accounts  Call_Log  desc_length  \\\n",
       "0         1    0        1      0             0         0         1905   \n",
       "1         0    0        1      0             0         0         3439   \n",
       "\n",
       "                                   Clean_Description  clean_desc_length  \\\n",
       "0  imocci is the new means of communication via a...               1797   \n",
       "1  neon d iron tech theme keyboard install our ke...               3099   \n",
       "\n",
       "   token_length  \n",
       "0           407  \n",
       "1           688  \n",
       "\n",
       "[2 rows x 23 columns]"
      ]
     },
     "execution_count": 6,
     "metadata": {},
     "output_type": "execute_result"
    }
   ],
   "source": [
    "# d3 : Productivity, Shopping, Finance, Social, Personalization\n",
    "df_d3 = pd.read_csv('d3-group/preprocessSTG9_d3.csv')\n",
    "df_d3.head(2)"
   ]
  },
  {
   "cell_type": "code",
   "execution_count": 7,
   "id": "0a8ba311",
   "metadata": {},
   "outputs": [
    {
     "data": {
      "text/plain": [
       "(223259, 23)"
      ]
     },
     "execution_count": 7,
     "metadata": {},
     "output_type": "execute_result"
    }
   ],
   "source": [
    "df_d3.shape"
   ]
  },
  {
   "cell_type": "code",
   "execution_count": 8,
   "id": "938cefc3",
   "metadata": {},
   "outputs": [
    {
     "data": {
      "text/html": [
       "<div>\n",
       "<style scoped>\n",
       "    .dataframe tbody tr th:only-of-type {\n",
       "        vertical-align: middle;\n",
       "    }\n",
       "\n",
       "    .dataframe tbody tr th {\n",
       "        vertical-align: top;\n",
       "    }\n",
       "\n",
       "    .dataframe thead th {\n",
       "        text-align: right;\n",
       "    }\n",
       "</style>\n",
       "<table border=\"1\" class=\"dataframe\">\n",
       "  <thead>\n",
       "    <tr style=\"text-align: right;\">\n",
       "      <th></th>\n",
       "      <th>App_Name</th>\n",
       "      <th>App_Id</th>\n",
       "      <th>Category</th>\n",
       "      <th>Rating</th>\n",
       "      <th>Maximum_Installs</th>\n",
       "      <th>Editors_Choice</th>\n",
       "      <th>Description</th>\n",
       "      <th>Privacy_Policy</th>\n",
       "      <th>Sensors</th>\n",
       "      <th>Camera</th>\n",
       "      <th>...</th>\n",
       "      <th>Contacts</th>\n",
       "      <th>SMS</th>\n",
       "      <th>Storage</th>\n",
       "      <th>Phone</th>\n",
       "      <th>Get_Accounts</th>\n",
       "      <th>Call_Log</th>\n",
       "      <th>desc_length</th>\n",
       "      <th>Clean_Description</th>\n",
       "      <th>clean_desc_length</th>\n",
       "      <th>token_length</th>\n",
       "    </tr>\n",
       "  </thead>\n",
       "  <tbody>\n",
       "    <tr>\n",
       "      <th>0</th>\n",
       "      <td>Calculus Tutorial 1: Introduction</td>\n",
       "      <td>com.RaySemiSoft.CalculusT1</td>\n",
       "      <td>Education</td>\n",
       "      <td>0.0</td>\n",
       "      <td>277</td>\n",
       "      <td>False</td>\n",
       "      <td>In this tutorial, we first define what we mean...</td>\n",
       "      <td>https://sites.google.com/site/raysemisoft/home</td>\n",
       "      <td>0</td>\n",
       "      <td>0</td>\n",
       "      <td>...</td>\n",
       "      <td>0</td>\n",
       "      <td>0</td>\n",
       "      <td>0</td>\n",
       "      <td>0</td>\n",
       "      <td>0</td>\n",
       "      <td>0</td>\n",
       "      <td>1578</td>\n",
       "      <td>in this tutorial, we first define what we mean...</td>\n",
       "      <td>1451</td>\n",
       "      <td>274</td>\n",
       "    </tr>\n",
       "    <tr>\n",
       "      <th>1</th>\n",
       "      <td>Chemistry Mission</td>\n",
       "      <td>academy.crow.chemistrymission</td>\n",
       "      <td>Educational</td>\n",
       "      <td>0.0</td>\n",
       "      <td>76</td>\n",
       "      <td>False</td>\n",
       "      <td>3 Game Modes:\\r\\nOrganic Chemistry\\r\\nInorgani...</td>\n",
       "      <td>https://crow.academy/privacy-policy.html</td>\n",
       "      <td>0</td>\n",
       "      <td>0</td>\n",
       "      <td>...</td>\n",
       "      <td>0</td>\n",
       "      <td>0</td>\n",
       "      <td>0</td>\n",
       "      <td>0</td>\n",
       "      <td>0</td>\n",
       "      <td>0</td>\n",
       "      <td>171</td>\n",
       "      <td>game modes organic chemistry inorganic chemist...</td>\n",
       "      <td>161</td>\n",
       "      <td>29</td>\n",
       "    </tr>\n",
       "  </tbody>\n",
       "</table>\n",
       "<p>2 rows × 23 columns</p>\n",
       "</div>"
      ],
      "text/plain": [
       "                            App_Name                         App_Id  \\\n",
       "0  Calculus Tutorial 1: Introduction     com.RaySemiSoft.CalculusT1   \n",
       "1                  Chemistry Mission  academy.crow.chemistrymission   \n",
       "\n",
       "      Category  Rating  Maximum_Installs  Editors_Choice  \\\n",
       "0    Education     0.0               277           False   \n",
       "1  Educational     0.0                76           False   \n",
       "\n",
       "                                         Description  \\\n",
       "0  In this tutorial, we first define what we mean...   \n",
       "1  3 Game Modes:\\r\\nOrganic Chemistry\\r\\nInorgani...   \n",
       "\n",
       "                                   Privacy_Policy  Sensors  Camera  ...  \\\n",
       "0  https://sites.google.com/site/raysemisoft/home        0       0  ...   \n",
       "1        https://crow.academy/privacy-policy.html        0       0  ...   \n",
       "\n",
       "   Contacts  SMS  Storage  Phone  Get_Accounts  Call_Log  desc_length  \\\n",
       "0         0    0        0      0             0         0         1578   \n",
       "1         0    0        0      0             0         0          171   \n",
       "\n",
       "                                   Clean_Description  clean_desc_length  \\\n",
       "0  in this tutorial, we first define what we mean...               1451   \n",
       "1  game modes organic chemistry inorganic chemist...                161   \n",
       "\n",
       "   token_length  \n",
       "0           274  \n",
       "1            29  \n",
       "\n",
       "[2 rows x 23 columns]"
      ]
     },
     "execution_count": 8,
     "metadata": {},
     "output_type": "execute_result"
    }
   ],
   "source": [
    "# d4 : Education, Educational\n",
    "df_d4 = pd.read_csv('d4-group/preprocessSTG9_d4.csv')\n",
    "df_d4.head(2)"
   ]
  },
  {
   "cell_type": "code",
   "execution_count": 9,
   "id": "f796c2a0",
   "metadata": {},
   "outputs": [
    {
     "data": {
      "text/plain": [
       "(162020, 23)"
      ]
     },
     "execution_count": 9,
     "metadata": {},
     "output_type": "execute_result"
    }
   ],
   "source": [
    "df_d4.shape"
   ]
  },
  {
   "cell_type": "code",
   "execution_count": 10,
   "id": "034119f6",
   "metadata": {},
   "outputs": [],
   "source": [
    "## target feature list"
   ]
  },
  {
   "cell_type": "code",
   "execution_count": 11,
   "id": "96dae2f2",
   "metadata": {},
   "outputs": [],
   "source": [
    "target_list = ['Sensors', 'Camera', 'Location', 'Microphone', 'Calendar', 'Contacts', 'SMS', 'Storage', 'Phone', 'Get_Accounts', 'Call_Log']"
   ]
  },
  {
   "cell_type": "code",
   "execution_count": 10,
   "id": "8fd0666f",
   "metadata": {},
   "outputs": [],
   "source": [
    "## applying rating and installs filter"
   ]
  },
  {
   "cell_type": "code",
   "execution_count": 12,
   "id": "533b9683",
   "metadata": {},
   "outputs": [
    {
     "data": {
      "text/plain": [
       "(54197, 23)"
      ]
     },
     "execution_count": 12,
     "metadata": {},
     "output_type": "execute_result"
    }
   ],
   "source": [
    "df_d1_f = df_d1[(df_d1['Rating'] >= 3.5) & (df_d1['Maximum_Installs'] >= 1000) & (df_d1['token_length'] >= 25)]\n",
    "df_d1_f.shape"
   ]
  },
  {
   "cell_type": "code",
   "execution_count": 13,
   "id": "90835b5d",
   "metadata": {},
   "outputs": [
    {
     "data": {
      "text/plain": [
       "Sensors            33\n",
       "Camera          16593\n",
       "Location        15913\n",
       "Microphone       8827\n",
       "Calendar         1880\n",
       "Contacts         9493\n",
       "SMS               258\n",
       "Storage         37768\n",
       "Phone           14540\n",
       "Get_Accounts     6332\n",
       "Call_Log          282\n",
       "dtype: int64"
      ]
     },
     "execution_count": 13,
     "metadata": {},
     "output_type": "execute_result"
    }
   ],
   "source": [
    "# getting number of nonzeros in each column\n",
    "df_d1_f[target_list].astype(bool).sum(axis=0)"
   ]
  },
  {
   "cell_type": "code",
   "execution_count": 14,
   "id": "5887bbbe",
   "metadata": {},
   "outputs": [
    {
     "data": {
      "text/plain": [
       "(66558, 23)"
      ]
     },
     "execution_count": 14,
     "metadata": {},
     "output_type": "execute_result"
    }
   ],
   "source": [
    "df_d2_f = df_d2[(df_d2['Rating'] >= 3.5) & (df_d2['Maximum_Installs'] >= 1000) & (df_d2['token_length'] >= 25)]\n",
    "df_d2_f.shape"
   ]
  },
  {
   "cell_type": "code",
   "execution_count": 15,
   "id": "6d531d96",
   "metadata": {},
   "outputs": [
    {
     "data": {
      "text/plain": [
       "Sensors           58\n",
       "Camera          2670\n",
       "Location        3198\n",
       "Microphone      1094\n",
       "Calendar         423\n",
       "Contacts        1401\n",
       "SMS               72\n",
       "Storage         6383\n",
       "Phone           2161\n",
       "Get_Accounts     880\n",
       "Call_Log          52\n",
       "dtype: int64"
      ]
     },
     "execution_count": 15,
     "metadata": {},
     "output_type": "execute_result"
    }
   ],
   "source": [
    "# getting number of nonzeros in each column\n",
    "df_d2_f[target_list].astype(bool).sum(axis=0)"
   ]
  },
  {
   "cell_type": "code",
   "execution_count": 16,
   "id": "98907666",
   "metadata": {},
   "outputs": [
    {
     "data": {
      "text/plain": [
       "(83927, 23)"
      ]
     },
     "execution_count": 16,
     "metadata": {},
     "output_type": "execute_result"
    }
   ],
   "source": [
    "df_d3_f = df_d3[(df_d3['Rating'] >= 3.5) & (df_d3['Maximum_Installs'] >= 1000) & (df_d3['token_length'] >= 25)]\n",
    "df_d3_f.shape"
   ]
  },
  {
   "cell_type": "code",
   "execution_count": 17,
   "id": "2cb02c73",
   "metadata": {},
   "outputs": [
    {
     "data": {
      "text/plain": [
       "Sensors           155\n",
       "Camera          22191\n",
       "Location        22148\n",
       "Microphone       7996\n",
       "Calendar         1954\n",
       "Contacts        13550\n",
       "SMS               364\n",
       "Storage         57742\n",
       "Phone           17572\n",
       "Get_Accounts     7092\n",
       "Call_Log          108\n",
       "dtype: int64"
      ]
     },
     "execution_count": 17,
     "metadata": {},
     "output_type": "execute_result"
    }
   ],
   "source": [
    "# getting number of nonzeros in each column\n",
    "df_d3_f[target_list].astype(bool).sum(axis=0)"
   ]
  },
  {
   "cell_type": "code",
   "execution_count": 18,
   "id": "bded1d1a",
   "metadata": {},
   "outputs": [
    {
     "data": {
      "text/plain": [
       "(53447, 23)"
      ]
     },
     "execution_count": 18,
     "metadata": {},
     "output_type": "execute_result"
    }
   ],
   "source": [
    "df_d4_f = df_d4[(df_d4['Rating'] >= 3.5) & (df_d4['Maximum_Installs'] >= 1000) & (df_d4['token_length'] >= 25)]\n",
    "df_d4_f.shape"
   ]
  },
  {
   "cell_type": "code",
   "execution_count": 19,
   "id": "0b1d95f4",
   "metadata": {},
   "outputs": [
    {
     "data": {
      "text/plain": [
       "Sensors             3\n",
       "Camera          10668\n",
       "Location         8914\n",
       "Microphone       8201\n",
       "Calendar         1366\n",
       "Contacts         6398\n",
       "SMS                 9\n",
       "Storage         28983\n",
       "Phone           10167\n",
       "Get_Accounts     3394\n",
       "Call_Log           11\n",
       "dtype: int64"
      ]
     },
     "execution_count": 19,
     "metadata": {},
     "output_type": "execute_result"
    }
   ],
   "source": [
    "# getting number of nonzeros in each column\n",
    "df_d4_f[target_list].astype(bool).sum(axis=0)"
   ]
  },
  {
   "cell_type": "code",
   "execution_count": null,
   "id": "704e7c6f",
   "metadata": {},
   "outputs": [],
   "source": []
  },
  {
   "cell_type": "code",
   "execution_count": 20,
   "id": "230ceb63",
   "metadata": {},
   "outputs": [
    {
     "data": {
      "text/plain": [
       "1     14937\n",
       "0     11688\n",
       "2      9597\n",
       "3      6327\n",
       "4      4682\n",
       "5      3560\n",
       "6      1909\n",
       "7      1192\n",
       "8       270\n",
       "9        29\n",
       "10        6\n",
       "dtype: int64"
      ]
     },
     "execution_count": 20,
     "metadata": {},
     "output_type": "execute_result"
    }
   ],
   "source": [
    "df_d1_f[target_list].sum(axis = 1).value_counts()"
   ]
  },
  {
   "cell_type": "code",
   "execution_count": 21,
   "id": "047913ac",
   "metadata": {},
   "outputs": [
    {
     "data": {
      "text/plain": [
       "0     58841\n",
       "1      3105\n",
       "2      1852\n",
       "3      1092\n",
       "4       779\n",
       "5       453\n",
       "6       219\n",
       "7       161\n",
       "8        32\n",
       "10       13\n",
       "9        11\n",
       "dtype: int64"
      ]
     },
     "execution_count": 21,
     "metadata": {},
     "output_type": "execute_result"
    }
   ],
   "source": [
    "df_d2_f[target_list].sum(axis = 1).value_counts()"
   ]
  },
  {
   "cell_type": "code",
   "execution_count": 22,
   "id": "f7d2e431",
   "metadata": {},
   "outputs": [
    {
     "data": {
      "text/plain": [
       "1     28579\n",
       "0     20063\n",
       "2     11805\n",
       "3      8478\n",
       "4      6943\n",
       "5      4664\n",
       "6      1952\n",
       "7      1192\n",
       "8       194\n",
       "10       34\n",
       "9        22\n",
       "11        1\n",
       "dtype: int64"
      ]
     },
     "execution_count": 22,
     "metadata": {},
     "output_type": "execute_result"
    }
   ],
   "source": [
    "df_d3_f[target_list].sum(axis = 1).value_counts()"
   ]
  },
  {
   "cell_type": "code",
   "execution_count": 23,
   "id": "0135d7b2",
   "metadata": {},
   "outputs": [
    {
     "data": {
      "text/plain": [
       "0    21424\n",
       "1    12979\n",
       "2     7022\n",
       "3     3961\n",
       "5     3550\n",
       "4     3150\n",
       "6      707\n",
       "7      616\n",
       "8       38\n",
       "dtype: int64"
      ]
     },
     "execution_count": 23,
     "metadata": {},
     "output_type": "execute_result"
    }
   ],
   "source": [
    "df_d4_f[target_list].sum(axis = 1).value_counts()"
   ]
  },
  {
   "cell_type": "code",
   "execution_count": null,
   "id": "13a902ef",
   "metadata": {},
   "outputs": [],
   "source": []
  },
  {
   "cell_type": "code",
   "execution_count": 24,
   "id": "b316bd81",
   "metadata": {},
   "outputs": [],
   "source": [
    "df1 = df_d1_f.append(df_d2_f)"
   ]
  },
  {
   "cell_type": "code",
   "execution_count": 25,
   "id": "36950b0a",
   "metadata": {},
   "outputs": [],
   "source": [
    "df1.reset_index(drop=True,inplace=True)"
   ]
  },
  {
   "cell_type": "code",
   "execution_count": 26,
   "id": "3ad9e2e7",
   "metadata": {},
   "outputs": [],
   "source": [
    "df1 = df1.append(df_d3_f)"
   ]
  },
  {
   "cell_type": "code",
   "execution_count": 27,
   "id": "05d58a75",
   "metadata": {},
   "outputs": [],
   "source": [
    "df1.reset_index(drop=True,inplace=True)"
   ]
  },
  {
   "cell_type": "code",
   "execution_count": 28,
   "id": "e44e7fcc",
   "metadata": {},
   "outputs": [],
   "source": [
    "df1 = df1.append(df_d4_f)"
   ]
  },
  {
   "cell_type": "code",
   "execution_count": 29,
   "id": "30a5d702",
   "metadata": {},
   "outputs": [],
   "source": [
    "df1.reset_index(drop=True,inplace=True)"
   ]
  },
  {
   "cell_type": "code",
   "execution_count": 30,
   "id": "f25afe01",
   "metadata": {},
   "outputs": [
    {
     "data": {
      "text/plain": [
       "(258129, 23)"
      ]
     },
     "execution_count": 30,
     "metadata": {},
     "output_type": "execute_result"
    }
   ],
   "source": [
    "df1.shape"
   ]
  },
  {
   "cell_type": "code",
   "execution_count": 31,
   "id": "523ec8ee",
   "metadata": {},
   "outputs": [],
   "source": [
    "df1.to_csv(\"datafile_V1.csv\",index=False)"
   ]
  },
  {
   "cell_type": "code",
   "execution_count": null,
   "id": "247d2372",
   "metadata": {},
   "outputs": [],
   "source": []
  }
 ],
 "metadata": {
  "kernelspec": {
   "display_name": "Python 3 (ipykernel)",
   "language": "python",
   "name": "python3"
  },
  "language_info": {
   "codemirror_mode": {
    "name": "ipython",
    "version": 3
   },
   "file_extension": ".py",
   "mimetype": "text/x-python",
   "name": "python",
   "nbconvert_exporter": "python",
   "pygments_lexer": "ipython3",
   "version": "3.7.11"
  }
 },
 "nbformat": 4,
 "nbformat_minor": 5
}
